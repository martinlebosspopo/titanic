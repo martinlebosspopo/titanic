{
 "cells": [
  {
   "cell_type": "markdown",
   "id": "9efb69d1-e829-4383-a86f-de14207f667f",
   "metadata": {
    "tags": []
   },
   "source": [
    "<h1><center>Model for other Notebooks</center></h1>\n",
    "\n",
    "# Imports & Setup"
   ]
  },
  {
   "cell_type": "code",
   "execution_count": null,
   "id": "0a4ec5d8-415e-4029-9dec-c68d7b4ab46d",
   "metadata": {},
   "outputs": [],
   "source": [
    "%load_ext autoreload\n",
    "%autoreload 2\n",
    "from utils import *\n",
    "import utils.transformers.transformers as tr\n",
    "import utils.transformers.sk4pandas as s4p\n",
    "import utils.transformers.knimp as knp\n",
    "\n",
    "import os\n",
    "import pickle\n",
    "import urllib.request\n",
    "import warnings\n",
    "\n",
    "import git\n",
    "from IPython.core.magic import register_cell_magic\n",
    "import mlflow\n",
    "import pandas as pd\n",
    "from sklearn import set_config\n",
    "from sklearn.base import clone\n",
    "from sklearn.compose import make_column_selector\n",
    "from sklearn.dummy import DummyClassifier\n",
    "from sklearn.metrics import accuracy_score\n",
    "from sklearn.model_selection import RandomizedSearchCV, train_test_split\n",
    "from sklearn.pipeline import Pipeline\n",
    "from scipy.stats import uniform, loguniform\n",
    "\n",
    "warnings.filterwarnings('ignore')\n",
    "set_config(display='text')\n",
    "\n",
    "git_repo = git.Repo(os.getcwd())\n",
    "\n",
    "@register_cell_magic\n",
    "def run_and_save(line, cell):\n",
    "    'Run and save python code block to a file'\n",
    "    with open(line, 'wt') as fd:\n",
    "        fd.write(cell)\n",
    "    code = compile(cell, line, 'exec')\n",
    "    exec(code, globals())"
   ]
  },
  {
   "cell_type": "markdown",
   "id": "b1a4fe5c-39e6-4a5e-98d7-f7ec05c429b0",
   "metadata": {
    "tags": []
   },
   "source": [
    "# Init Datasets"
   ]
  },
  {
   "cell_type": "code",
   "execution_count": null,
   "id": "dcc7812a-e1f7-432d-a5a4-6425d01562de",
   "metadata": {},
   "outputs": [],
   "source": [
    "raw_main_df = pd.read_csv('data/train.csv')\n",
    "raw_sub_df = pd.read_csv('data/test.csv')\n",
    "raw_train_df, raw_test_df = train_test_split(raw_main_df, test_size=100, random_state=42)\n",
    "\n",
    "X_all, y_all = raw_main_df.drop('Survived', axis=1), raw_main_df['Survived']\n",
    "X_train, y_train = raw_train_df.drop('Survived', axis=1), raw_train_df['Survived']\n",
    "X_test, y_test = raw_test_df.drop('Survived', axis=1), raw_test_df['Survived']\n",
    "\n",
    "raw_train_df.sample(5, random_state=42)"
   ]
  },
  {
   "cell_type": "markdown",
   "id": "38ea612f-9a82-4c0a-a756-75b71d497919",
   "metadata": {
    "tags": []
   },
   "source": [
    "# Prepare Pipeline"
   ]
  },
  {
   "cell_type": "code",
   "execution_count": null,
   "id": "d15f170c-64f1-4612-b58b-ba7ad906ac96",
   "metadata": {
    "tags": []
   },
   "outputs": [],
   "source": [
    "%%run_and_save blueprints/pipeline.py\n",
    "\n",
    "\n",
    "clip_outliers = [(\n",
    "    'Float',\n",
    "    tr.ClipOutliers(std_band=3),\n",
    "    make_column_selector(dtype_include=['float64'])\n",
    ")]\n",
    "\n",
    "fillna_mean_mfreq = [(\n",
    "    'Mean',\n",
    "    s4p.SimpleImputer(strategy='mean'),\n",
    "    make_column_selector(dtype_include=['float64'])\n",
    "),(\n",
    "    'Most Frequent',\n",
    "    s4p.SimpleImputer(strategy='most_frequent'),\n",
    "    make_column_selector(dtype_include=['int64', 'object'])\n",
    ")]\n",
    "\n",
    "fillna_constant = [(\n",
    "    'Cabin',\n",
    "    s4p.SimpleImputer(strategy='constant', fill_value='UNKNOWN'),\n",
    "    ['Cabin']\n",
    "),(\n",
    "    'Age',\n",
    "    s4p.SimpleImputer(strategy='constant', fill_value=-9999.),\n",
    "    ['Age']\n",
    ")]\n",
    "\n",
    "\n",
    "steps_main = [\n",
    "    ('Set working columns', tr.SetupFeatures(cols_ignore=['PassengerId', 'Name', 'Ticket']) ),\n",
    "    ('Format Cabins', tr.Cabin() ),\n",
    "    ('Standardize', s4p.StandardScaler(cols_select=['Age', 'Fare']) ),\n",
    "    ('Clip Outliers', tr.ClipOutliers(cols_select=['Age', 'Fare'], std_band=3)),\n",
    "    ('Replace NaNs With Constants', s4p.ColumnTransformer(fillna_constant, remainder='passthrough') ),\n",
    "    ('Prepare coltypes for imputation', tr.AsTypes() ),\n",
    "    ('Impute NaNs left with KNN', knp.KNImp(min_frequency=20) ),\n",
    "    ('OneHot Encoding', s4p.OneHotEncoder(cols_select=['Pclass', 'Sex', 'SibSp', 'Embarked']) ),\n",
    "    ('Dummy Classifier', DummyClassifier())\n",
    "]\n",
    "\n",
    "pipe = Pipeline(steps_main)"
   ]
  },
  {
   "cell_type": "markdown",
   "id": "9fc07771-9225-4b0e-ac6c-bfbc880e00ec",
   "metadata": {
    "tags": []
   },
   "source": [
    "# Grid Params"
   ]
  },
  {
   "cell_type": "code",
   "execution_count": null,
   "id": "4ca163e3-0b83-4013-8c0f-079c2a531d7e",
   "metadata": {},
   "outputs": [],
   "source": [
    "%%run_and_save blueprints/grid_params.py\n",
    "\n",
    "\n",
    "ml_params_distributions = {\n",
    "#    'Clip Outliers__Float__std_band': [3.],\n",
    "#    'LogisticRegression__C': uniform(0.1, 3.),\n",
    "}\n",
    "\n",
    "rs = RandomizedSearchCV (\n",
    "    pipe,\n",
    "    param_distributions = ml_params_distributions,\n",
    "    n_iter=1,\n",
    "    n_jobs=-1,\n",
    "    refit=True,\n",
    "    cv=CVSplitter(5, 80),\n",
    "    return_train_score=True\n",
    ")"
   ]
  },
  {
   "cell_type": "markdown",
   "id": "24e5de8f-4391-4c72-8c1f-4e8c6edcc801",
   "metadata": {
    "tags": []
   },
   "source": [
    "# ML flow run"
   ]
  },
  {
   "cell_type": "code",
   "execution_count": null,
   "id": "ccb1e837-a8db-4cb0-8a84-6f4e9be9c913",
   "metadata": {},
   "outputs": [],
   "source": [
    "mlflow.sklearn.autolog(max_tuning_runs=3)\n",
    "\n",
    "with mlflow.start_run(run_name='Dummy Classifier - New NaN imput method') as run:\n",
    "    mlflow.set_tags(get_lastcommit_infos(git_repo))\n",
    "    mlflow.log_artifact('blueprints/pipeline.py', 'blueprints')\n",
    "    mlflow.log_artifact('blueprints/grid_params.py', 'blueprints')\n",
    "    pipe.fit(X_all, y_all)\n",
    "    #rs.fit(X_all, y_all)"
   ]
  },
  {
   "cell_type": "markdown",
   "id": "bf1bef38-9176-4860-ac84-8531283cdd52",
   "metadata": {
    "tags": []
   },
   "source": [
    "# Refit best model"
   ]
  },
  {
   "cell_type": "code",
   "execution_count": null,
   "id": "0d7a2fb6-e2f1-4ab3-bd24-a6ba38488966",
   "metadata": {},
   "outputs": [],
   "source": [
    "run_id = '2ee74536f11e48189703684f2d03f45d'\n",
    "url_local_model = f'file:///Users/i538262/Desktop/Developments/PERSO/KAGGLE%20Titanic/mlruns/0/{run_id}/artifacts/model/model.pkl' # model\n",
    "url_local_model = f'file:///Users/i538262/Desktop/Developments/PERSO/KAGGLE%20Titanic/mlruns/0/{run_id}/artifacts/best_estimator/model.pkl' # best estimator (from rs)\n",
    "\n",
    "with urllib.request.urlopen(url_local_model) as model_file:\n",
    "    best_model = pickle.load(model_file)\n",
    "    \n",
    "best_model_allfit = clone(best_model)\n",
    "best_model_allfit.fit(X_all, y_all)\n",
    "\n",
    "accuracy_score(y_all, best_model_allfit.predict(X_all))"
   ]
  },
  {
   "cell_type": "markdown",
   "id": "ec192919-7473-4ef7-ab4c-15b4fbaf5f0c",
   "metadata": {},
   "source": [
    "# Submit models predictions"
   ]
  },
  {
   "cell_type": "code",
   "execution_count": null,
   "id": "db30b5f4-c03e-4522-a2ee-0b255d0d518b",
   "metadata": {},
   "outputs": [],
   "source": [
    "branch_name = get_lastcommit_infos(git_repo)['Branch']\n",
    "submit(f'submissions/{branch_name}/{run_id}.csv', raw_sub_df.PassengerId, best_model_allfit.predict(raw_sub_df))"
   ]
  },
  {
   "cell_type": "markdown",
   "id": "1a3b44dc-38e9-4175-8574-ebb5f771aad1",
   "metadata": {},
   "source": [
    "# Model insights"
   ]
  },
  {
   "cell_type": "code",
   "execution_count": null,
   "id": "cd98c7be-ad31-4981-b3e1-f6fef5578eac",
   "metadata": {
    "tags": []
   },
   "outputs": [],
   "source": []
  },
  {
   "cell_type": "markdown",
   "id": "2a3de6ff-8347-4b08-b47a-d544a88b093d",
   "metadata": {},
   "source": [
    "# Code tests"
   ]
  },
  {
   "cell_type": "code",
   "execution_count": null,
   "id": "2e7459b4-a7ff-4e6e-9c56-f1faacbe0eaf",
   "metadata": {},
   "outputs": [],
   "source": []
  }
 ],
 "metadata": {
  "kernelspec": {
   "display_name": "Python 3 (ipykernel)",
   "language": "python",
   "name": "python3"
  },
  "language_info": {
   "codemirror_mode": {
    "name": "ipython",
    "version": 3
   },
   "file_extension": ".py",
   "mimetype": "text/x-python",
   "name": "python",
   "nbconvert_exporter": "python",
   "pygments_lexer": "ipython3",
   "version": "3.8.12"
  },
  "toc-autonumbering": false
 },
 "nbformat": 4,
 "nbformat_minor": 5
}
