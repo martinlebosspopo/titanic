{
 "cells": [
  {
   "cell_type": "code",
   "execution_count": 24,
   "metadata": {},
   "outputs": [
    {
     "name": "stdout",
     "output_type": "stream",
     "text": [
      "The autoreload extension is already loaded. To reload it, use:\n",
      "  %reload_ext autoreload\n"
     ]
    },
    {
     "data": {
      "text/html": [
       "<div>\n",
       "<style scoped>\n",
       "    .dataframe tbody tr th:only-of-type {\n",
       "        vertical-align: middle;\n",
       "    }\n",
       "\n",
       "    .dataframe tbody tr th {\n",
       "        vertical-align: top;\n",
       "    }\n",
       "\n",
       "    .dataframe thead th {\n",
       "        text-align: right;\n",
       "    }\n",
       "</style>\n",
       "<table border=\"1\" class=\"dataframe\">\n",
       "  <thead>\n",
       "    <tr style=\"text-align: right;\">\n",
       "      <th></th>\n",
       "      <th>PassengerId</th>\n",
       "      <th>Survived</th>\n",
       "      <th>Pclass</th>\n",
       "      <th>Name</th>\n",
       "      <th>Sex</th>\n",
       "      <th>Age</th>\n",
       "      <th>SibSp</th>\n",
       "      <th>Parch</th>\n",
       "      <th>Ticket</th>\n",
       "      <th>Fare</th>\n",
       "      <th>Cabin</th>\n",
       "      <th>Embarked</th>\n",
       "    </tr>\n",
       "  </thead>\n",
       "  <tbody>\n",
       "    <tr>\n",
       "      <th>678</th>\n",
       "      <td>679</td>\n",
       "      <td>0</td>\n",
       "      <td>3</td>\n",
       "      <td>Goodwin, Mrs. Frederick (Augusta Tyler)</td>\n",
       "      <td>female</td>\n",
       "      <td>43.0</td>\n",
       "      <td>1</td>\n",
       "      <td>6</td>\n",
       "      <td>CA 2144</td>\n",
       "      <td>46.9000</td>\n",
       "      <td>NaN</td>\n",
       "      <td>S</td>\n",
       "    </tr>\n",
       "    <tr>\n",
       "      <th>49</th>\n",
       "      <td>50</td>\n",
       "      <td>0</td>\n",
       "      <td>3</td>\n",
       "      <td>Arnold-Franchi, Mrs. Josef (Josefine Franchi)</td>\n",
       "      <td>female</td>\n",
       "      <td>18.0</td>\n",
       "      <td>1</td>\n",
       "      <td>0</td>\n",
       "      <td>349237</td>\n",
       "      <td>17.8000</td>\n",
       "      <td>NaN</td>\n",
       "      <td>S</td>\n",
       "    </tr>\n",
       "    <tr>\n",
       "      <th>691</th>\n",
       "      <td>692</td>\n",
       "      <td>1</td>\n",
       "      <td>3</td>\n",
       "      <td>Karun, Miss. Manca</td>\n",
       "      <td>female</td>\n",
       "      <td>4.0</td>\n",
       "      <td>0</td>\n",
       "      <td>1</td>\n",
       "      <td>349256</td>\n",
       "      <td>13.4167</td>\n",
       "      <td>NaN</td>\n",
       "      <td>C</td>\n",
       "    </tr>\n",
       "    <tr>\n",
       "      <th>499</th>\n",
       "      <td>500</td>\n",
       "      <td>0</td>\n",
       "      <td>3</td>\n",
       "      <td>Svensson, Mr. Olof</td>\n",
       "      <td>male</td>\n",
       "      <td>24.0</td>\n",
       "      <td>0</td>\n",
       "      <td>0</td>\n",
       "      <td>350035</td>\n",
       "      <td>7.7958</td>\n",
       "      <td>NaN</td>\n",
       "      <td>S</td>\n",
       "    </tr>\n",
       "    <tr>\n",
       "      <th>303</th>\n",
       "      <td>304</td>\n",
       "      <td>1</td>\n",
       "      <td>2</td>\n",
       "      <td>Keane, Miss. Nora A</td>\n",
       "      <td>female</td>\n",
       "      <td>NaN</td>\n",
       "      <td>0</td>\n",
       "      <td>0</td>\n",
       "      <td>226593</td>\n",
       "      <td>12.3500</td>\n",
       "      <td>E101</td>\n",
       "      <td>Q</td>\n",
       "    </tr>\n",
       "  </tbody>\n",
       "</table>\n",
       "</div>"
      ],
      "text/plain": [
       "     PassengerId  Survived  Pclass  \\\n",
       "678          679         0       3   \n",
       "49            50         0       3   \n",
       "691          692         1       3   \n",
       "499          500         0       3   \n",
       "303          304         1       2   \n",
       "\n",
       "                                              Name     Sex   Age  SibSp  \\\n",
       "678        Goodwin, Mrs. Frederick (Augusta Tyler)  female  43.0      1   \n",
       "49   Arnold-Franchi, Mrs. Josef (Josefine Franchi)  female  18.0      1   \n",
       "691                             Karun, Miss. Manca  female   4.0      0   \n",
       "499                             Svensson, Mr. Olof    male  24.0      0   \n",
       "303                            Keane, Miss. Nora A  female   NaN      0   \n",
       "\n",
       "     Parch   Ticket     Fare Cabin Embarked  \n",
       "678      6  CA 2144  46.9000   NaN        S  \n",
       "49       0   349237  17.8000   NaN        S  \n",
       "691      1   349256  13.4167   NaN        C  \n",
       "499      0   350035   7.7958   NaN        S  \n",
       "303      0   226593  12.3500  E101        Q  "
      ]
     },
     "execution_count": 24,
     "metadata": {},
     "output_type": "execute_result"
    }
   ],
   "source": [
    "%load_ext autoreload\n",
    "%autoreload 2\n",
    "from preprocess import *\n",
    "from displays import *\n",
    "\n",
    "import matplotlib.pyplot as plt\n",
    "import numpy as np\n",
    "import pandas as pd\n",
    "from scipy import stats\n",
    "from sklearn.metrics import roc_auc_score\n",
    "from sklearn.model_selection import train_test_split\n",
    "from sklearn.preprocessing import OneHotEncoder\n",
    "\n",
    "raw_main_df = pd.read_csv('data/train.csv')\n",
    "raw_sub_df = pd.read_csv('data/test.csv')\n",
    "\n",
    "raw_train_df, raw_test_df = train_test_split(raw_main_df, test_size=100, random_state=42)\n",
    "\n",
    "raw_train_df.sample(5, random_state=42)"
   ]
  },
  {
   "cell_type": "markdown",
   "metadata": {},
   "source": [
    "# Funs"
   ]
  },
  {
   "cell_type": "code",
   "execution_count": 2,
   "metadata": {},
   "outputs": [],
   "source": [
    "from utils import displays\n",
    "from utils2 import displays\n",
    "\n",
    "#ut.preprocess.f(2)"
   ]
  },
  {
   "cell_type": "markdown",
   "metadata": {},
   "source": [
    "-----\n",
    "# Highest Freq estimator"
   ]
  },
  {
   "cell_type": "code",
   "execution_count": 13,
   "metadata": {},
   "outputs": [
    {
     "name": "stdout",
     "output_type": "stream",
     "text": [
      "0.618204804045512 0.38179519595448796\n"
     ]
    }
   ],
   "source": [
    "freq_1 = np.sum(raw_train_df.Survived) / raw_train_df.shape[0]\n",
    "freq_0 = 1 - freq_1\n",
    "print(freq_0, freq_1)"
   ]
  },
  {
   "cell_type": "code",
   "execution_count": null,
   "metadata": {},
   "outputs": [],
   "source": [
    "def highest_freq_estimator(X):\n",
    "    return 0\n",
    "\n"
   ]
  },
  {
   "cell_type": "markdown",
   "metadata": {},
   "source": [
    "------\n",
    "# 2. Logistic Regression\n",
    "## 2.1. Prepare Train, Test sets"
   ]
  },
  {
   "cell_type": "code",
   "execution_count": 5,
   "metadata": {},
   "outputs": [
    {
     "name": "stdout",
     "output_type": "stream",
     "text": [
      "> Outliers: 24 / 791\n"
     ]
    }
   ],
   "source": [
    "from sklearn.linear_model import LogisticRegression\n",
    "\n",
    "PARAMS = {\n",
    "}\n",
    "COLS_IGNORED = ['PassengerId', 'Name', 'Ticket']\n",
    "\n",
    "train_df = (\n",
    "    raw_train_df\n",
    "    .copy()\n",
    "    .pipe(remove_unusable_cols, COLS_IGNORED)\n",
    "    .pipe(keep_first_letter)\n",
    "    .pipe(replace_cols_nans, raw_main_df, show_nans=False)\n",
    "    .pipe(remove_nans)\n",
    "    .pipe(remove_outliers)\n",
    "    .pipe(convert_types)\n",
    "    .pipe(get_dummies)\n",
    ")\n",
    "\n",
    "X_train, y_train = train_df.drop('Survived', axis=1), train_df.Survived\n",
    "\n",
    "#.fit(X_train, y_train)"
   ]
  },
  {
   "cell_type": "markdown",
   "metadata": {},
   "source": [
    "## 2.2. Cross Validation"
   ]
  },
  {
   "cell_type": "code",
   "execution_count": 6,
   "metadata": {},
   "outputs": [
    {
     "data": {
      "text/plain": [
       "array([5.18606758, 0.16774251, 6.13860292, 2.3663118 , 0.89376953,\n",
       "       0.13394837, 0.55373462, 1.69005142, 0.19399742, 7.21911308])"
      ]
     },
     "execution_count": 6,
     "metadata": {},
     "output_type": "execute_result"
    }
   ],
   "source": [
    "import random\n",
    "C_par = 10*10**(-np.random.uniform(0,2, size=10))\n",
    "C_par"
   ]
  },
  {
   "cell_type": "code",
   "execution_count": 7,
   "metadata": {},
   "outputs": [
    {
     "name": "stdout",
     "output_type": "stream",
     "text": [
      "C : 5.186067583606398\n"
     ]
    },
    {
     "ename": "NameError",
     "evalue": "name 'cross_val_score' is not defined",
     "output_type": "error",
     "traceback": [
      "\u001b[0;31m---------------------------------------------------------------------------\u001b[0m",
      "\u001b[0;31mNameError\u001b[0m                                 Traceback (most recent call last)",
      "\u001b[0;32m<ipython-input-7-9cfa8da329b5>\u001b[0m in \u001b[0;36m<module>\u001b[0;34m\u001b[0m\n\u001b[1;32m      7\u001b[0m     \u001b[0mprint\u001b[0m\u001b[0;34m(\u001b[0m\u001b[0;34m'C :'\u001b[0m\u001b[0;34m,\u001b[0m \u001b[0mc\u001b[0m\u001b[0;34m)\u001b[0m\u001b[0;34m\u001b[0m\u001b[0;34m\u001b[0m\u001b[0m\n\u001b[1;32m      8\u001b[0m     \u001b[0mmodel\u001b[0m \u001b[0;34m=\u001b[0m \u001b[0mLogisticRegression\u001b[0m\u001b[0;34m(\u001b[0m\u001b[0mmax_iter\u001b[0m\u001b[0;34m=\u001b[0m\u001b[0;36m100\u001b[0m\u001b[0;34m,\u001b[0m \u001b[0mrandom_state\u001b[0m\u001b[0;34m=\u001b[0m\u001b[0;36m0\u001b[0m\u001b[0;34m,\u001b[0m \u001b[0mC\u001b[0m\u001b[0;34m=\u001b[0m\u001b[0mc\u001b[0m\u001b[0;34m)\u001b[0m\u001b[0;34m\u001b[0m\u001b[0;34m\u001b[0m\u001b[0m\n\u001b[0;32m----> 9\u001b[0;31m     val_scores = cross_val_score(\n\u001b[0m\u001b[1;32m     10\u001b[0m         \u001b[0mmodel\u001b[0m\u001b[0;34m,\u001b[0m\u001b[0;34m\u001b[0m\u001b[0;34m\u001b[0m\u001b[0m\n\u001b[1;32m     11\u001b[0m         \u001b[0mX_train\u001b[0m\u001b[0;34m,\u001b[0m\u001b[0;34m\u001b[0m\u001b[0;34m\u001b[0m\u001b[0m\n",
      "\u001b[0;31mNameError\u001b[0m: name 'cross_val_score' is not defined"
     ]
    }
   ],
   "source": [
    "import warnings\n",
    "warnings.filterwarnings('ignore')\n",
    "\n",
    "# Best: 0.186015041630706\n",
    "\n",
    "for c in C_par:\n",
    "    print('C :', c)\n",
    "    model = LogisticRegression(max_iter=100, random_state=0, C=c)\n",
    "    val_scores = cross_val_score(\n",
    "        model,\n",
    "        X_train,\n",
    "        y_train,\n",
    "        cv=10,\n",
    "        scoring= lambda esti, X, y_true: roc_auc_score(y_true, esti.predict_proba(X)[:,1])\n",
    "    )\n",
    "    print(np.mean(val_scores))#, val_scores)\n",
    "    print('-----')\n",
    "\n",
    "\n",
    "\n",
    "#np.mean(val_scores)\n",
    "# 500 -> 0.8453696546483597\n",
    "# 100 -> 0.846616466652692\n",
    "#0.23, 0.021472848189418532, 0.77, 0.47"
   ]
  },
  {
   "cell_type": "code",
   "execution_count": 9,
   "metadata": {},
   "outputs": [],
   "source": [
    "BEST_PARAMS = {\n",
    "    'C': 0.186015041630706\n",
    "}\n",
    "final_model = LogisticRegression(max_iter=500, random_state=0, C=BEST_PARAMS['C']).fit(X_train, y_train)"
   ]
  },
  {
   "cell_type": "markdown",
   "metadata": {},
   "source": [
    "## 2.2. Evaluate model"
   ]
  },
  {
   "cell_type": "code",
   "execution_count": 23,
   "metadata": {},
   "outputs": [],
   "source": [
    "SUBM_PATH = f'submissions/log_{PARAMS}.csv'\n",
    "COLS_IGNORED = ['Name', 'Ticket']\n",
    "\n",
    "subm_features_df = (\n",
    "    raw_sub_df\n",
    "    .copy()\n",
    "    .drop(COLS_IGNORED, axis=1)\n",
    "    .pipe(keep_first_letter)\n",
    "    .pipe(replace_cols_nans, ref_df=raw_train_df, show_nans=False)\n",
    "    .pipe(convert_types, submit=True)\n",
    "    .pipe(get_dummies)\n",
    "    .pipe(set_same_dummies_as_ref, train_df)\n",
    ")\n",
    "\n",
    "X_subm = subm_df.drop('PassengerId', axis=1)\n",
    "y_pred = model.predict(X_subm)\n",
    "\n",
    "subm_df = pd.DataFrame({\n",
    "    'PassengerId': subm_df.PassengerId,\n",
    "    'Survived': y_pred\n",
    "})\n",
    "\n",
    "subm_df.to_csv(SUBM_PATH, index=False)"
   ]
  },
  {
   "cell_type": "code",
   "execution_count": null,
   "metadata": {},
   "outputs": [],
   "source": []
  }
 ],
 "metadata": {
  "kernelspec": {
   "display_name": "Python 3",
   "language": "python",
   "name": "python3"
  },
  "language_info": {
   "codemirror_mode": {
    "name": "ipython",
    "version": 3
   },
   "file_extension": ".py",
   "mimetype": "text/x-python",
   "name": "python",
   "nbconvert_exporter": "python",
   "pygments_lexer": "ipython3",
   "version": "3.8.5"
  }
 },
 "nbformat": 4,
 "nbformat_minor": 4
}
