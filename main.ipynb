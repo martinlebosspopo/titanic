{
 "cells": [
  {
   "cell_type": "markdown",
   "id": "ec1db15a-9ff8-41b1-bab4-0f5d9779aa8d",
   "metadata": {},
   "source": [
    "<h1><center>Main Notebook - Random Forest</center></h1>\n",
    "\n",
    "# Imports & Setup"
   ]
  },
  {
   "cell_type": "code",
   "execution_count": null,
   "id": "bc06e2aa-8135-4e93-9fa1-004a1815390d",
   "metadata": {},
   "outputs": [],
   "source": [
    "%load_ext autoreload\n",
    "%autoreload 2\n",
    "from utils import *\n",
    "import utils.transformers.transformers as tr\n",
    "import utils.transformers.sk4pandas as s4p\n",
    "import utils.transformers.knimp as knp\n",
    "\n",
    "import os\n",
    "import pickle\n",
    "import urllib.request\n",
    "import warnings\n",
    "\n",
    "import git\n",
    "from IPython.core.magic import register_cell_magic\n",
    "import mlflow\n",
    "import pandas as pd\n",
    "from sklearn.base import clone\n",
    "from sklearn.compose import make_column_selector\n",
    "from sklearn.metrics import accuracy_score\n",
    "from sklearn.model_selection import RandomizedSearchCV, train_test_split\n",
    "from sklearn.ensemble import RandomForestClassifier\n",
    "from sklearn.pipeline import Pipeline\n",
    "from scipy.stats import uniform, loguniform\n",
    "\n",
    "warnings.filterwarnings('ignore')\n",
    "set_config(display='text')\n",
    "\n",
    "git_repo = git.Repo(os.getcwd())\n",
    "\n",
    "@register_cell_magic\n",
    "def run_and_save(line, cell):\n",
    "    'Run and save python code block to a file'\n",
    "    with open(line, 'wt') as fd:\n",
    "        fd.write(cell)\n",
    "    code = compile(cell, line, 'exec')\n",
    "    exec(code, globals())"
   ]
  },
  {
   "cell_type": "markdown",
   "id": "71e89b21-6109-4bc7-8525-d17d1f49aceb",
   "metadata": {},
   "source": [
    "# Init Datasets"
   ]
  },
  {
   "cell_type": "code",
   "execution_count": null,
   "id": "5a7cce3a-25b3-45e8-9551-669fa7131047",
   "metadata": {},
   "outputs": [],
   "source": [
    "raw_main_df = pd.read_csv('data/train.csv')\n",
    "raw_sub_df = pd.read_csv('data/test.csv')\n",
    "raw_train_df, raw_test_df = train_test_split(raw_main_df, test_size=100, random_state=42)\n",
    "\n",
    "X_all, y_all = raw_main_df.drop('Survived', axis=1), raw_main_df['Survived']\n",
    "X_train, y_train = raw_train_df.drop('Survived', axis=1), raw_train_df['Survived']\n",
    "X_test, y_test = raw_test_df.drop('Survived', axis=1), raw_test_df['Survived']\n",
    "\n",
    "raw_train_df.sample(5, random_state=42)"
   ]
  },
  {
   "cell_type": "markdown",
   "id": "1d187aff-bc2c-4847-bd3f-b4fe274fc4b5",
   "metadata": {},
   "source": [
    "# Prepare Pipeline"
   ]
  },
  {
   "cell_type": "code",
   "execution_count": null,
   "id": "71bd2713-0303-4b11-93d8-a6d0273886c5",
   "metadata": {},
   "outputs": [],
   "source": [
    "%%run_and_save blueprints/pipeline.py\n",
    "\n",
    "\n",
    "clip_outliers = [(\n",
    "    'Float',\n",
    "    tr.ClipOutliers(std_band=3),\n",
    "    make_column_selector(dtype_include=['float64'])\n",
    ")]\n",
    "\n",
    "fillna_constant = [(\n",
    "    'Cabin',\n",
    "    s4p.SimpleImputer(strategy='constant', fill_value='UNKNOWN'),\n",
    "    ['Cabin']\n",
    "),(\n",
    "    'Age',\n",
    "    s4p.SimpleImputer(strategy='constant', fill_value=-9999.),\n",
    "    ['Age']\n",
    ")]\n",
    "\n",
    "\n",
    "steps_main = [\n",
    "    ('Set working columns', tr.SetupFeatures(cols_ignore=['PassengerId', 'Name', 'Ticket']) ),\n",
    "    ('Format Cabins', tr.Cabin() ),\n",
    "    ('Standardize', s4p.StandardScaler(cols_select=['Age', 'Fare']) ),\n",
    "    ('Clip Outliers', tr.ClipOutliers(cols_select=['Age', 'Fare'], std_band=3)),\n",
    "    ('Replace NaNs With Constants', s4p.ColumnTransformer(fillna_constant, remainder='passthrough') ),\n",
    "    ('Prepare coltypes for imputation', tr.AsTypes() ),\n",
    "    ('Impute NaNs left with KNN', knp.KNImp(min_frequency=20) ),\n",
    "    ('OneHot Encoding', s4p.OneHotEncoder(cols_select=['Cabin', 'Pclass', 'Sex', 'SibSp', 'Embarked', 'Parch']) ),\n",
    "    ('Random Forest', RandomForestClassifier())\n",
    "]\n",
    "\n",
    "pipe = Pipeline(steps_main)"
   ]
  },
  {
   "cell_type": "markdown",
   "id": "42929047-71f0-426a-9d87-e23a234deebd",
   "metadata": {},
   "source": [
    "# Grid Params"
   ]
  },
  {
   "cell_type": "code",
   "execution_count": null,
   "id": "2030f9bb-ecf0-489c-9a65-2e1a3c9db4a5",
   "metadata": {},
   "outputs": [],
   "source": [
    "%%run_and_save blueprints/grid_params.py\n",
    "\n",
    "n_iter = 200\n",
    "\n",
    "ml_params_distributions = {\n",
    "    'Random Forest__n_estimators': [180, 190, 200, 210, 220, 230, 250, 270, 300],\n",
    "    'Random Forest__max_depth': [6, 8, 10, 15],\n",
    "    'Random Forest__min_samples_leaf': loguniform(10, 50).rvs(n_iter).astype('int'),\n",
    "    'Random Forest__max_features': ['sqrt']\n",
    "}\n",
    "\n",
    "ml_params_distributions_WITH_btp = ml_params_distributions.copy()\n",
    "ml_params_distributions_WITH_btp.update({\n",
    "    'Random Forest__bootstrap': [True],\n",
    "    'Random Forest__max_samples': [0.6, 0.8]\n",
    "})\n",
    "ml_params_distributions_WITHOUT_btp = ml_params_distributions.copy()\n",
    "ml_params_distributions_WITHOUT_btp.update({\n",
    "    'Random Forest__bootstrap': [False],\n",
    "})\n",
    "\n",
    "rs = RandomizedSearchCV (\n",
    "    pipe,\n",
    "    param_distributions = ml_params_distributions_WITH_btp,\n",
    "    n_iter=n_iter,\n",
    "    n_jobs=-1,\n",
    "    refit=True,\n",
    "    cv=CVSplitter(5, 80),\n",
    "    return_train_score=True,\n",
    ")"
   ]
  },
  {
   "cell_type": "markdown",
   "id": "0dd2f9da-0cfb-4226-b96f-dfc22df7efe3",
   "metadata": {},
   "source": [
    "# ML Flow Run"
   ]
  },
  {
   "cell_type": "code",
   "execution_count": null,
   "id": "91c76a22-2b7d-46b0-a355-28aed42e15e6",
   "metadata": {
    "tags": []
   },
   "outputs": [],
   "source": [
    "mlflow.sklearn.autolog(max_tuning_runs=5)\n",
    "\n",
    "with mlflow.start_run(run_name='RF - Use Parch, With bootstrap') as run:\n",
    "    mlflow.set_tags(get_lastcommit_infos(git_repo))\n",
    "    mlflow.log_artifact('blueprints/pipeline.py', 'blueprints')\n",
    "    mlflow.log_artifact('blueprints/grid_params.py', 'blueprints')\n",
    "    #pipe.fit(X_all, y_all)\n",
    "    rs.fit(X_all, y_all)"
   ]
  },
  {
   "cell_type": "markdown",
   "id": "84c8f726-5346-4750-8a1a-25e0529eab52",
   "metadata": {},
   "source": [
    "# Refit best model"
   ]
  },
  {
   "cell_type": "code",
   "execution_count": null,
   "id": "6989faf6-8164-47bf-9923-8c9533919405",
   "metadata": {},
   "outputs": [],
   "source": [
    "run_id = '77ad09e4619a4ca9b7a6234c8f25c0e2'\n",
    "url_local_model = f'file:///Users/i538262/Desktop/Developments/PERSO/KAGGLE%20Titanic/mlruns/0/{run_id}/artifacts/best_estimator/model.pkl'\n",
    "with urllib.request.urlopen(url_local_model) as model_file:\n",
    "    best_model = pickle.load(model_file)\n",
    "    \n",
    "best_model_allfit = clone(best_model)\n",
    "best_model_allfit.fit(X_all, y_all)\n",
    "\n",
    "accuracy_score(y_test, best_model_allfit.predict(X_test))"
   ]
  },
  {
   "cell_type": "markdown",
   "id": "a6011fb1-5ea6-469a-a29f-0e8270be1844",
   "metadata": {},
   "source": [
    "# Submit models predictions"
   ]
  },
  {
   "cell_type": "code",
   "execution_count": null,
   "id": "ca08b78d-e4a4-47f8-8614-f2dafc2ba86a",
   "metadata": {},
   "outputs": [],
   "source": [
    "branch_name = get_lastcommit_infos(git_repo)['Branch']\n",
    "submit(f'submissions/{branch_name}/{run_id}.csv', raw_sub_df.PassengerId, best_model_allfit.predict(raw_sub_df))"
   ]
  },
  {
   "cell_type": "markdown",
   "id": "d3405577-5e02-4d4b-803c-fbba8cf8a4ca",
   "metadata": {},
   "source": [
    "# Model insights"
   ]
  },
  {
   "cell_type": "code",
   "execution_count": null,
   "id": "cfcedcdd-63f0-46c7-b3ab-674133ea1114",
   "metadata": {
    "tags": []
   },
   "outputs": [],
   "source": []
  },
  {
   "cell_type": "markdown",
   "id": "fae47b47-996b-448a-b073-05b85488f2fc",
   "metadata": {},
   "source": [
    "# Code tests"
   ]
  },
  {
   "cell_type": "code",
   "execution_count": null,
   "id": "e9a2412e-6545-4173-8725-c6e20bbbba63",
   "metadata": {},
   "outputs": [],
   "source": []
  }
 ],
 "metadata": {
  "kernelspec": {
   "display_name": "Python 3 (ipykernel)",
   "language": "python",
   "name": "python3"
  },
  "language_info": {
   "codemirror_mode": {
    "name": "ipython",
    "version": 3
   },
   "file_extension": ".py",
   "mimetype": "text/x-python",
   "name": "python",
   "nbconvert_exporter": "python",
   "pygments_lexer": "ipython3",
   "version": "3.8.12"
  }
 },
 "nbformat": 4,
 "nbformat_minor": 5
}
