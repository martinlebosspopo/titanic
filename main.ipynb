{
 "cells": [
  {
   "cell_type": "markdown",
   "id": "ec1db15a-9ff8-41b1-bab4-0f5d9779aa8d",
   "metadata": {},
   "source": [
    "<h1><center>Main Notebook - Different for each Model</center></h1>\n",
    "\n",
    "# Imports & Setup"
   ]
  },
  {
   "cell_type": "code",
   "execution_count": null,
   "id": "bc06e2aa-8135-4e93-9fa1-004a1815390d",
   "metadata": {},
   "outputs": [],
   "source": [
    "%load_ext autoreload\n",
    "%autoreload 2\n",
    "from utils import *\n",
    "import utils.transformers.transformers as tr\n",
    "import utils.transformers.sk4pandas as s4p\n",
    "\n",
    "import os\n",
    "import pickle\n",
    "import urllib.request\n",
    "\n",
    "import git\n",
    "from IPython.core.magic import register_cell_magic\n",
    "import mlflow\n",
    "import pandas as pd\n",
    "from sklearn.base import clone\n",
    "from sklearn.compose import make_column_selector\n",
    "from sklearn.metrics import accuracy_score\n",
    "from sklearn.model_selection import RandomizedSearchCV, train_test_split\n",
    "from sklearn.pipeline import Pipeline\n",
    "from scipy.stats import uniform, loguniform\n",
    "\n",
    "git_repo = git.Repo(os.getcwd())\n",
    "\n",
    "@register_cell_magic\n",
    "def run_and_save(line, cell):\n",
    "    'Run and save python code block to a file'\n",
    "    with open(line, 'wt') as fd:\n",
    "        fd.write(cell)\n",
    "    code = compile(cell, line, 'exec')\n",
    "    exec(code, globals())"
   ]
  },
  {
   "cell_type": "markdown",
   "id": "71e89b21-6109-4bc7-8525-d17d1f49aceb",
   "metadata": {},
   "source": [
    "# Init Datasets"
   ]
  },
  {
   "cell_type": "code",
   "execution_count": null,
   "id": "5a7cce3a-25b3-45e8-9551-669fa7131047",
   "metadata": {},
   "outputs": [],
   "source": [
    "raw_main_df = pd.read_csv('data/train.csv')\n",
    "raw_sub_df = pd.read_csv('data/test.csv')\n",
    "raw_train_df, raw_test_df = train_test_split(raw_main_df, test_size=100, random_state=42)\n",
    "\n",
    "X_all, y_all = raw_main_df.drop('Survived', axis=1), raw_main_df['Survived']\n",
    "X_train, y_train = raw_train_df.drop('Survived', axis=1), raw_train_df['Survived']\n",
    "X_test, y_test = raw_test_df.drop('Survived', axis=1), raw_test_df['Survived']\n",
    "\n",
    "raw_train_df.sample(5, random_state=42)"
   ]
  },
  {
   "cell_type": "markdown",
   "id": "1d187aff-bc2c-4847-bd3f-b4fe274fc4b5",
   "metadata": {},
   "source": [
    "# Prepare Pipeline"
   ]
  },
  {
   "cell_type": "code",
   "execution_count": null,
   "id": "71bd2713-0303-4b11-93d8-a6d0273886c5",
   "metadata": {},
   "outputs": [],
   "source": [
    "%%run_and_save blueprints/pipeline.py\n",
    "\n"
   ]
  },
  {
   "cell_type": "markdown",
   "id": "42929047-71f0-426a-9d87-e23a234deebd",
   "metadata": {},
   "source": [
    "# Grid Params"
   ]
  },
  {
   "cell_type": "code",
   "execution_count": null,
   "id": "2030f9bb-ecf0-489c-9a65-2e1a3c9db4a5",
   "metadata": {},
   "outputs": [],
   "source": [
    "%%run_and_save blueprints/grid_params.py\n",
    "\n"
   ]
  },
  {
   "cell_type": "markdown",
   "id": "0dd2f9da-0cfb-4226-b96f-dfc22df7efe3",
   "metadata": {},
   "source": [
    "# ML Flow Run"
   ]
  },
  {
   "cell_type": "code",
   "execution_count": null,
   "id": "91c76a22-2b7d-46b0-a355-28aed42e15e6",
   "metadata": {},
   "outputs": [],
   "source": []
  },
  {
   "cell_type": "markdown",
   "id": "84c8f726-5346-4750-8a1a-25e0529eab52",
   "metadata": {},
   "source": [
    "# Refit best model"
   ]
  },
  {
   "cell_type": "code",
   "execution_count": null,
   "id": "6989faf6-8164-47bf-9923-8c9533919405",
   "metadata": {},
   "outputs": [],
   "source": [
    "run_id = 'XXX'\n",
    "url_local_model = f'file:///Users/i538262/Desktop/Developments/PERSO/KAGGLE%20Titanic/mlruns/0/{run_id}/artifacts/model/model.pkl'\n",
    "with urllib.request.urlopen(url_local_model) as model_file:\n",
    "    best_model = pickle.load(model_file)\n",
    "    \n",
    "best_model_allfit = clone(best_model)\n",
    "best_model_allfit.fit(X_all, y_all)"
   ]
  },
  {
   "cell_type": "markdown",
   "id": "a6011fb1-5ea6-469a-a29f-0e8270be1844",
   "metadata": {},
   "source": [
    "# Submit models predictions"
   ]
  },
  {
   "cell_type": "code",
   "execution_count": null,
   "id": "ca08b78d-e4a4-47f8-8614-f2dafc2ba86a",
   "metadata": {},
   "outputs": [],
   "source": [
    "branch_name = get_lastcommit_infos(git_repo)['Branch']\n",
    "submit(f'submissions/{branch_name}/{run_id}.csv', raw_sub_df.PassengerId, best_model_allfit.predict(raw_sub_df))"
   ]
  },
  {
   "cell_type": "markdown",
   "id": "fae47b47-996b-448a-b073-05b85488f2fc",
   "metadata": {},
   "source": [
    "# Code tests"
   ]
  },
  {
   "cell_type": "code",
   "execution_count": null,
   "id": "48be34c1-6699-4af4-9b6c-2addd559f5fc",
   "metadata": {},
   "outputs": [],
   "source": []
  },
  {
   "cell_type": "code",
   "execution_count": null,
   "id": "288efede-e3c0-4229-86d8-7eba6f3a15f4",
   "metadata": {},
   "outputs": [],
   "source": []
  }
 ],
 "metadata": {
  "kernelspec": {
   "display_name": "Python 3 (ipykernel)",
   "language": "python",
   "name": "python3"
  },
  "language_info": {
   "codemirror_mode": {
    "name": "ipython",
    "version": 3
   },
   "file_extension": ".py",
   "mimetype": "text/x-python",
   "name": "python",
   "nbconvert_exporter": "python",
   "pygments_lexer": "ipython3",
   "version": "3.8.12"
  }
 },
 "nbformat": 4,
 "nbformat_minor": 5
}
