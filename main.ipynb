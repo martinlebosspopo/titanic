{
 "cells": [
  {
   "cell_type": "markdown",
   "id": "ec1db15a-9ff8-41b1-bab4-0f5d9779aa8d",
   "metadata": {},
   "source": [
    "<h1><center>Main Notebook - Logistic Regression</center></h1>\n",
    "\n",
    "# Imports & Setup"
   ]
  },
  {
   "cell_type": "code",
   "execution_count": 1,
   "id": "bc06e2aa-8135-4e93-9fa1-004a1815390d",
   "metadata": {},
   "outputs": [],
   "source": [
    "%load_ext autoreload\n",
    "%autoreload 2\n",
    "from utils import *\n",
    "import utils.transformers.transformers as tr\n",
    "import utils.transformers.sk4pandas as s4p\n",
    "import utils.transformers.knimp as knp\n",
    "\n",
    "import os\n",
    "import pickle\n",
    "import urllib.request\n",
    "import warnings\n",
    "\n",
    "import git\n",
    "from IPython.core.magic import register_cell_magic\n",
    "import mlflow\n",
    "import pandas as pd\n",
    "from sklearn import set_config\n",
    "from sklearn.base import clone\n",
    "from sklearn.compose import make_column_selector\n",
    "from sklearn.linear_model import LogisticRegression\n",
    "from sklearn.model_selection import RandomizedSearchCV, train_test_split\n",
    "from sklearn.pipeline import Pipeline\n",
    "from scipy.stats import uniform, loguniform\n",
    "\n",
    "warnings.filterwarnings('ignore')\n",
    "set_config(display='text')\n",
    "\n",
    "git_repo = git.Repo(os.getcwd())\n",
    "\n",
    "@register_cell_magic\n",
    "def run_and_save(line, cell):\n",
    "    'Run and save python code block to a file'\n",
    "    with open(line, 'wt') as fd:\n",
    "        fd.write(cell)\n",
    "    code = compile(cell, line, 'exec')\n",
    "    exec(code, globals())"
   ]
  },
  {
   "cell_type": "markdown",
   "id": "71e89b21-6109-4bc7-8525-d17d1f49aceb",
   "metadata": {},
   "source": [
    "# Init Datasets"
   ]
  },
  {
   "cell_type": "code",
   "execution_count": 2,
   "id": "5a7cce3a-25b3-45e8-9551-669fa7131047",
   "metadata": {},
   "outputs": [
    {
     "data": {
      "text/html": [
       "<div>\n",
       "<style scoped>\n",
       "    .dataframe tbody tr th:only-of-type {\n",
       "        vertical-align: middle;\n",
       "    }\n",
       "\n",
       "    .dataframe tbody tr th {\n",
       "        vertical-align: top;\n",
       "    }\n",
       "\n",
       "    .dataframe thead th {\n",
       "        text-align: right;\n",
       "    }\n",
       "</style>\n",
       "<table border=\"1\" class=\"dataframe\">\n",
       "  <thead>\n",
       "    <tr style=\"text-align: right;\">\n",
       "      <th></th>\n",
       "      <th>PassengerId</th>\n",
       "      <th>Survived</th>\n",
       "      <th>Pclass</th>\n",
       "      <th>Name</th>\n",
       "      <th>Sex</th>\n",
       "      <th>Age</th>\n",
       "      <th>SibSp</th>\n",
       "      <th>Parch</th>\n",
       "      <th>Ticket</th>\n",
       "      <th>Fare</th>\n",
       "      <th>Cabin</th>\n",
       "      <th>Embarked</th>\n",
       "    </tr>\n",
       "  </thead>\n",
       "  <tbody>\n",
       "    <tr>\n",
       "      <th>678</th>\n",
       "      <td>679</td>\n",
       "      <td>0</td>\n",
       "      <td>3</td>\n",
       "      <td>Goodwin, Mrs. Frederick (Augusta Tyler)</td>\n",
       "      <td>female</td>\n",
       "      <td>43.0</td>\n",
       "      <td>1</td>\n",
       "      <td>6</td>\n",
       "      <td>CA 2144</td>\n",
       "      <td>46.9000</td>\n",
       "      <td>NaN</td>\n",
       "      <td>S</td>\n",
       "    </tr>\n",
       "    <tr>\n",
       "      <th>49</th>\n",
       "      <td>50</td>\n",
       "      <td>0</td>\n",
       "      <td>3</td>\n",
       "      <td>Arnold-Franchi, Mrs. Josef (Josefine Franchi)</td>\n",
       "      <td>female</td>\n",
       "      <td>18.0</td>\n",
       "      <td>1</td>\n",
       "      <td>0</td>\n",
       "      <td>349237</td>\n",
       "      <td>17.8000</td>\n",
       "      <td>NaN</td>\n",
       "      <td>S</td>\n",
       "    </tr>\n",
       "    <tr>\n",
       "      <th>691</th>\n",
       "      <td>692</td>\n",
       "      <td>1</td>\n",
       "      <td>3</td>\n",
       "      <td>Karun, Miss. Manca</td>\n",
       "      <td>female</td>\n",
       "      <td>4.0</td>\n",
       "      <td>0</td>\n",
       "      <td>1</td>\n",
       "      <td>349256</td>\n",
       "      <td>13.4167</td>\n",
       "      <td>NaN</td>\n",
       "      <td>C</td>\n",
       "    </tr>\n",
       "    <tr>\n",
       "      <th>499</th>\n",
       "      <td>500</td>\n",
       "      <td>0</td>\n",
       "      <td>3</td>\n",
       "      <td>Svensson, Mr. Olof</td>\n",
       "      <td>male</td>\n",
       "      <td>24.0</td>\n",
       "      <td>0</td>\n",
       "      <td>0</td>\n",
       "      <td>350035</td>\n",
       "      <td>7.7958</td>\n",
       "      <td>NaN</td>\n",
       "      <td>S</td>\n",
       "    </tr>\n",
       "    <tr>\n",
       "      <th>303</th>\n",
       "      <td>304</td>\n",
       "      <td>1</td>\n",
       "      <td>2</td>\n",
       "      <td>Keane, Miss. Nora A</td>\n",
       "      <td>female</td>\n",
       "      <td>NaN</td>\n",
       "      <td>0</td>\n",
       "      <td>0</td>\n",
       "      <td>226593</td>\n",
       "      <td>12.3500</td>\n",
       "      <td>E101</td>\n",
       "      <td>Q</td>\n",
       "    </tr>\n",
       "  </tbody>\n",
       "</table>\n",
       "</div>"
      ],
      "text/plain": [
       "     PassengerId  Survived  Pclass  \\\n",
       "678          679         0       3   \n",
       "49            50         0       3   \n",
       "691          692         1       3   \n",
       "499          500         0       3   \n",
       "303          304         1       2   \n",
       "\n",
       "                                              Name     Sex   Age  SibSp  \\\n",
       "678        Goodwin, Mrs. Frederick (Augusta Tyler)  female  43.0      1   \n",
       "49   Arnold-Franchi, Mrs. Josef (Josefine Franchi)  female  18.0      1   \n",
       "691                             Karun, Miss. Manca  female   4.0      0   \n",
       "499                             Svensson, Mr. Olof    male  24.0      0   \n",
       "303                            Keane, Miss. Nora A  female   NaN      0   \n",
       "\n",
       "     Parch   Ticket     Fare Cabin Embarked  \n",
       "678      6  CA 2144  46.9000   NaN        S  \n",
       "49       0   349237  17.8000   NaN        S  \n",
       "691      1   349256  13.4167   NaN        C  \n",
       "499      0   350035   7.7958   NaN        S  \n",
       "303      0   226593  12.3500  E101        Q  "
      ]
     },
     "execution_count": 2,
     "metadata": {},
     "output_type": "execute_result"
    }
   ],
   "source": [
    "raw_main_df = pd.read_csv('data/train.csv')\n",
    "raw_sub_df = pd.read_csv('data/test.csv')\n",
    "raw_train_df, raw_test_df = train_test_split(raw_main_df, test_size=100, random_state=42)\n",
    "\n",
    "X_all, y_all = raw_main_df.drop('Survived', axis=1), raw_main_df['Survived']\n",
    "X_train, y_train = raw_train_df.drop('Survived', axis=1), raw_train_df['Survived']\n",
    "X_test, y_test = raw_test_df.drop('Survived', axis=1), raw_test_df['Survived']\n",
    "\n",
    "raw_train_df.sample(5, random_state=42)"
   ]
  },
  {
   "cell_type": "markdown",
   "id": "1d187aff-bc2c-4847-bd3f-b4fe274fc4b5",
   "metadata": {},
   "source": [
    "# Prepare Pipeline"
   ]
  },
  {
   "cell_type": "code",
   "execution_count": 3,
   "id": "71bd2713-0303-4b11-93d8-a6d0273886c5",
   "metadata": {},
   "outputs": [],
   "source": [
    "%%run_and_save blueprints/pipeline.py\n",
    "\n",
    "clip_outliers = [(\n",
    "    'Float',\n",
    "    tr.ClipOutliers(std_band=3),\n",
    "    make_column_selector(dtype_include=['float64'])\n",
    ")]\n",
    "\n",
    "fillna_constant = [(\n",
    "    'Cabin',\n",
    "    s4p.SimpleImputer(strategy='constant', fill_value='UNKNOWN'),\n",
    "    ['Cabin']\n",
    ")]\n",
    "\n",
    "\n",
    "steps_main = [\n",
    "    ('Set working columns', tr.SetupFeatures(cols_ignore=['PassengerId', 'Name', 'Ticket']) ),\n",
    "    ('Format Cabins', tr.Cabin() ),\n",
    "    ('Standardize', s4p.StandardScaler(cols_select=['Age', 'Fare']) ),\n",
    "    ('Clip Outliers', tr.ClipOutliers(cols_select=['Age', 'Fare'], std_band=3)),\n",
    "    ('Replace NaNs With Constants', s4p.ColumnTransformer(fillna_constant, remainder='passthrough') ),\n",
    "    ('Prepare coltypes for imputation', tr.AsTypes() ),\n",
    "    ('Impute NaNs left with KNN', knp.KNImp(min_frequency=20) ),\n",
    "    ('OneHot Encoding', s4p.OneHotEncoder(cols_select=['Cabin', 'Parch', 'Pclass', 'Sex', 'SibSp', 'Embarked']) ),\n",
    "    ('Logistic Regression', LogisticRegression())\n",
    "]\n",
    "\n",
    "pipe = Pipeline(steps_main)"
   ]
  },
  {
   "cell_type": "markdown",
   "id": "42929047-71f0-426a-9d87-e23a234deebd",
   "metadata": {},
   "source": [
    "# Grid Params"
   ]
  },
  {
   "cell_type": "code",
   "execution_count": 4,
   "id": "2030f9bb-ecf0-489c-9a65-2e1a3c9db4a5",
   "metadata": {},
   "outputs": [],
   "source": [
    "%%run_and_save blueprints/grid_params.py\n",
    "\n",
    "\n",
    "ml_params_distributions = {\n",
    "    'Logistic Regression__C': uniform(1, 10),\n",
    "}\n",
    "\n",
    "rs = RandomizedSearchCV (\n",
    "    pipe,\n",
    "    param_distributions = ml_params_distributions,\n",
    "    n_iter=10,\n",
    "    n_jobs=-1,\n",
    "    refit=True,\n",
    "    cv=CVSplitter(5, 80),\n",
    "    return_train_score=True\n",
    ")"
   ]
  },
  {
   "cell_type": "markdown",
   "id": "0dd2f9da-0cfb-4226-b96f-dfc22df7efe3",
   "metadata": {},
   "source": [
    "# ML Flow Run"
   ]
  },
  {
   "cell_type": "code",
   "execution_count": null,
   "id": "91c76a22-2b7d-46b0-a355-28aed42e15e6",
   "metadata": {},
   "outputs": [],
   "source": [
    "mlflow.sklearn.autolog(max_tuning_runs=3)\n",
    "\n",
    "with mlflow.start_run(run_name='Logistic Regression - After KNN Imputer') as run:\n",
    "    mlflow.set_tags(get_lastcommit_infos(git_repo))\n",
    "    mlflow.log_artifact('blueprints/pipeline.py', 'blueprints')\n",
    "    mlflow.log_artifact('blueprints/grid_params.py', 'blueprints')\n",
    "    #pipe.fit(X_all, y_all)\n",
    "    rs.fit(X_all, y_all)"
   ]
  },
  {
   "cell_type": "markdown",
   "id": "84c8f726-5346-4750-8a1a-25e0529eab52",
   "metadata": {},
   "source": [
    "# Refit best model"
   ]
  },
  {
   "cell_type": "code",
   "execution_count": 6,
   "id": "6989faf6-8164-47bf-9923-8c9533919405",
   "metadata": {},
   "outputs": [
    {
     "name": "stderr",
     "output_type": "stream",
     "text": [
      "2022/05/25 23:02:12 INFO mlflow.utils.autologging_utils: Created MLflow autologging run with ID 'c29f5bcd3d024cd3ab025cfbdc2290b7', which will track hyperparameters, performance metrics, model artifacts, and lineage information for the current sklearn workflow\n",
      "2022/05/25 23:02:12 WARNING mlflow.utils: Truncated the value of the key `steps`. Truncated value: `[('Set working columns', SetupFeatures(cols_ignore=['PassengerId', 'Name', 'Ticket'])), ('Format Cabins', Cabin()), ('Standardize', StandardScaler(cols_ignore=['Pclass', 'Sex', 'SibSp', 'Parch', 'Cabin',\n",
      "                            'Embarked'],\n",
      "  ...`\n",
      "2022/05/25 23:02:12 WARNING mlflow.utils: Truncated the value of the key `Replace NaNs With Constants`. Truncated value: `ColumnTransformer(Cabin__cols_ignore=[], Cabin__cols_select=[],\n",
      "                  Cabin__fill_value='UNKNOWN', Cabin__strategy='constant',\n",
      "                  transformers=[('Cabin',\n",
      "                                 SimpleImputer(fill_value='UNKNOWN...`\n"
     ]
    },
    {
     "name": "stdout",
     "output_type": "stream",
     "text": [
      "<KNImputer> Cols that will be OneHot encoded :\n",
      "\t- Cabin {'A', 'F', 'G', 'E', 'T', 'D', 'UNKNOWN', 'B', 'C'}\n",
      "\t- Pclass {1, 2, 3}\n",
      "\t- Sex {'female', 'male'}\n",
      "\t- SibSp {0, 1, 2, 3, 4, 5, 8}\n",
      "\t- Parch {0, 1, 2, 3, 4, 5, 6}\n",
      "\t- Embarked {nan, 'Q', 'C', 'S'}\n"
     ]
    },
    {
     "data": {
      "text/plain": [
       "Pipeline(steps=[('Set working columns',\n",
       "                 SetupFeatures(cols_ignore=['PassengerId', 'Name', 'Ticket'])),\n",
       "                ('Format Cabins', Cabin()),\n",
       "                ('Standardize',\n",
       "                 StandardScaler(cols_ignore=['Pclass', 'Sex', 'SibSp', 'Parch',\n",
       "                                             'Cabin', 'Embarked'],\n",
       "                                cols_select=['Age', 'Fare'])),\n",
       "                ('Clip Outliers',\n",
       "                 ClipOutliers(cols_ignore=['Pclass', 'Sex', 'SibSp', 'Parch',\n",
       "                                           'Cabin', 'Embarked'],\n",
       "                              cols_select=...\n",
       "                                                  ['Cabin'])])),\n",
       "                ('Prepare coltypes for imputation', AsTypes()),\n",
       "                ('Impute NaNs left with KNN',\n",
       "                 KNImp(cols_onehot=['Cabin', 'Pclass', 'Sex', 'SibSp', 'Parch',\n",
       "                                    'Embarked'],\n",
       "                       min_frequency=20)),\n",
       "                ('OneHot Encoding',\n",
       "                 OneHotEncoder(cols_ignore=['Age', 'Fare'],\n",
       "                               cols_select=['Cabin', 'Parch', 'Pclass', 'Sex',\n",
       "                                            'SibSp', 'Embarked'])),\n",
       "                ('Logistic Regression',\n",
       "                 LogisticRegression(C=5.214360064773572))])"
      ]
     },
     "execution_count": 6,
     "metadata": {},
     "output_type": "execute_result"
    }
   ],
   "source": [
    "run_id = '757041383f924d9f9b5ad609c45248eb'\n",
    "# url_local_model = f'file:///Users/i538262/Desktop/Developments/PERSO/KAGGLE%20Titanic/mlruns/0/{run_id}/artifacts/model/model.pkl' # model\n",
    "url_local_model = f'file:///Users/i538262/Desktop/Developments/PERSO/KAGGLE%20Titanic/mlruns/0/{run_id}/artifacts/best_estimator/model.pkl' # best estimator (from rs)\n",
    "\n",
    "with urllib.request.urlopen(url_local_model) as model_file:\n",
    "    best_model = pickle.load(model_file)\n",
    "    \n",
    "best_model_allfit = clone(best_model)\n",
    "best_model_allfit.fit(X_all, y_all)"
   ]
  },
  {
   "cell_type": "markdown",
   "id": "a6011fb1-5ea6-469a-a29f-0e8270be1844",
   "metadata": {},
   "source": [
    "# Submit models predictions"
   ]
  },
  {
   "cell_type": "code",
   "execution_count": 7,
   "id": "ca08b78d-e4a4-47f8-8614-f2dafc2ba86a",
   "metadata": {},
   "outputs": [],
   "source": [
    "branch_name = get_lastcommit_infos(git_repo)['Branch']\n",
    "submit(f'submissions/{branch_name}/{run_id}.csv', raw_sub_df.PassengerId, best_model_allfit.predict(raw_sub_df))"
   ]
  },
  {
   "cell_type": "markdown",
   "id": "c49fff8d-2b60-4bc4-9a77-a0a2e150c4a7",
   "metadata": {},
   "source": [
    "# Model insights"
   ]
  },
  {
   "cell_type": "code",
   "execution_count": null,
   "id": "8fcfdd3e-6e99-4c10-be14-c081d2c28247",
   "metadata": {
    "tags": []
   },
   "outputs": [],
   "source": [
    "for c, n in zip(best_model_allfit[-1].coef_[0], best_model_allfit[-1].feature_names_in_):\n",
    "    print(n, c)"
   ]
  },
  {
   "cell_type": "markdown",
   "id": "fae47b47-996b-448a-b073-05b85488f2fc",
   "metadata": {
    "tags": []
   },
   "source": [
    "# Code tests"
   ]
  },
  {
   "cell_type": "code",
   "execution_count": null,
   "id": "288efede-e3c0-4229-86d8-7eba6f3a15f4",
   "metadata": {},
   "outputs": [],
   "source": []
  },
  {
   "cell_type": "code",
   "execution_count": null,
   "id": "16f427b1-0c5d-4729-9309-85c8718a430a",
   "metadata": {},
   "outputs": [],
   "source": []
  }
 ],
 "metadata": {
  "kernelspec": {
   "display_name": "Python 3 (ipykernel)",
   "language": "python",
   "name": "python3"
  },
  "language_info": {
   "codemirror_mode": {
    "name": "ipython",
    "version": 3
   },
   "file_extension": ".py",
   "mimetype": "text/x-python",
   "name": "python",
   "nbconvert_exporter": "python",
   "pygments_lexer": "ipython3",
   "version": "3.8.12"
  }
 },
 "nbformat": 4,
 "nbformat_minor": 5
}
